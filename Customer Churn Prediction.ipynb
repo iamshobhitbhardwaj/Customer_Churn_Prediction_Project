{
 "cells": [
  {
   "cell_type": "markdown",
   "id": "e0afe42a-bb87-4911-a963-299b44f5742a",
   "metadata": {},
   "source": [
    "Project Assignment: Build & Deploy a Customer Churn Prediction Model"
   ]
  },
  {
   "cell_type": "markdown",
   "id": "cd834ec2-fc1e-44f9-8ff1-1d4430f3ec82",
   "metadata": {},
   "source": [
    "1. Data Loading and Exploration"
   ]
  },
  {
   "cell_type": "code",
   "execution_count": 3,
   "id": "879b6c09-8ce8-416c-8f07-2a250a93bb17",
   "metadata": {},
   "outputs": [],
   "source": [
    "# Load the dataset (CSV format)"
   ]
  },
  {
   "cell_type": "code",
   "execution_count": 4,
   "id": "548509ef-a4bc-4675-888a-61d3164e71f0",
   "metadata": {},
   "outputs": [
    {
     "name": "stdout",
     "output_type": "stream",
     "text": [
      "      customerID  gender  SeniorCitizen Partner Dependents  tenure  \\\n",
      "0     7590-VHVEG  Female              0     Yes         No       1   \n",
      "1     5575-GNVDE    Male              0      No         No      34   \n",
      "2     3668-QPYBK    Male              0      No         No       2   \n",
      "3     7795-CFOCW    Male              0      No         No      45   \n",
      "4     9237-HQITU  Female              0      No         No       2   \n",
      "...          ...     ...            ...     ...        ...     ...   \n",
      "7038  6840-RESVB    Male              0     Yes        Yes      24   \n",
      "7039  2234-XADUH  Female              0     Yes        Yes      72   \n",
      "7040  4801-JZAZL  Female              0     Yes        Yes      11   \n",
      "7041  8361-LTMKD    Male              1     Yes         No       4   \n",
      "7042  3186-AJIEK    Male              0      No         No      66   \n",
      "\n",
      "     PhoneService     MultipleLines InternetService OnlineSecurity  ...  \\\n",
      "0              No  No phone service             DSL             No  ...   \n",
      "1             Yes                No             DSL            Yes  ...   \n",
      "2             Yes                No             DSL            Yes  ...   \n",
      "3              No  No phone service             DSL            Yes  ...   \n",
      "4             Yes                No     Fiber optic             No  ...   \n",
      "...           ...               ...             ...            ...  ...   \n",
      "7038          Yes               Yes             DSL            Yes  ...   \n",
      "7039          Yes               Yes     Fiber optic             No  ...   \n",
      "7040           No  No phone service             DSL            Yes  ...   \n",
      "7041          Yes               Yes     Fiber optic             No  ...   \n",
      "7042          Yes                No     Fiber optic            Yes  ...   \n",
      "\n",
      "     DeviceProtection TechSupport StreamingTV StreamingMovies        Contract  \\\n",
      "0                  No          No          No              No  Month-to-month   \n",
      "1                 Yes          No          No              No        One year   \n",
      "2                  No          No          No              No  Month-to-month   \n",
      "3                 Yes         Yes          No              No        One year   \n",
      "4                  No          No          No              No  Month-to-month   \n",
      "...               ...         ...         ...             ...             ...   \n",
      "7038              Yes         Yes         Yes             Yes        One year   \n",
      "7039              Yes          No         Yes             Yes        One year   \n",
      "7040               No          No          No              No  Month-to-month   \n",
      "7041               No          No          No              No  Month-to-month   \n",
      "7042              Yes         Yes         Yes             Yes        Two year   \n",
      "\n",
      "     PaperlessBilling              PaymentMethod MonthlyCharges  TotalCharges  \\\n",
      "0                 Yes           Electronic check          29.85         29.85   \n",
      "1                  No               Mailed check          56.95        1889.5   \n",
      "2                 Yes               Mailed check          53.85        108.15   \n",
      "3                  No  Bank transfer (automatic)          42.30       1840.75   \n",
      "4                 Yes           Electronic check          70.70        151.65   \n",
      "...               ...                        ...            ...           ...   \n",
      "7038              Yes               Mailed check          84.80        1990.5   \n",
      "7039              Yes    Credit card (automatic)         103.20        7362.9   \n",
      "7040              Yes           Electronic check          29.60        346.45   \n",
      "7041              Yes               Mailed check          74.40         306.6   \n",
      "7042              Yes  Bank transfer (automatic)         105.65        6844.5   \n",
      "\n",
      "     Churn  \n",
      "0       No  \n",
      "1       No  \n",
      "2      Yes  \n",
      "3       No  \n",
      "4      Yes  \n",
      "...    ...  \n",
      "7038    No  \n",
      "7039    No  \n",
      "7040    No  \n",
      "7041   Yes  \n",
      "7042    No  \n",
      "\n",
      "[7043 rows x 21 columns]\n"
     ]
    }
   ],
   "source": [
    "import numpy as np\n",
    "import pandas as pd\n",
    "\n",
    "customerChurn = pd.read_csv(\"customerChurn.csv\")\n",
    "\n",
    "print(customerChurn)"
   ]
  },
  {
   "cell_type": "code",
   "execution_count": 5,
   "id": "6151c242-69b7-456f-aadb-32362a13ac25",
   "metadata": {},
   "outputs": [],
   "source": [
    "# Explore the number of rows, column types, and any missing values"
   ]
  },
  {
   "cell_type": "code",
   "execution_count": 6,
   "id": "9b2814fe-9de0-4e47-9c27-357bf00ba0b4",
   "metadata": {},
   "outputs": [
    {
     "name": "stdout",
     "output_type": "stream",
     "text": [
      "7043 \n",
      "\n",
      "\n",
      "<bound method DataFrame.info of       customerID  gender  SeniorCitizen Partner Dependents  tenure  \\\n",
      "0     7590-VHVEG  Female              0     Yes         No       1   \n",
      "1     5575-GNVDE    Male              0      No         No      34   \n",
      "2     3668-QPYBK    Male              0      No         No       2   \n",
      "3     7795-CFOCW    Male              0      No         No      45   \n",
      "4     9237-HQITU  Female              0      No         No       2   \n",
      "...          ...     ...            ...     ...        ...     ...   \n",
      "7038  6840-RESVB    Male              0     Yes        Yes      24   \n",
      "7039  2234-XADUH  Female              0     Yes        Yes      72   \n",
      "7040  4801-JZAZL  Female              0     Yes        Yes      11   \n",
      "7041  8361-LTMKD    Male              1     Yes         No       4   \n",
      "7042  3186-AJIEK    Male              0      No         No      66   \n",
      "\n",
      "     PhoneService     MultipleLines InternetService OnlineSecurity  ...  \\\n",
      "0              No  No phone service             DSL             No  ...   \n",
      "1             Yes                No             DSL            Yes  ...   \n",
      "2             Yes                No             DSL            Yes  ...   \n",
      "3              No  No phone service             DSL            Yes  ...   \n",
      "4             Yes                No     Fiber optic             No  ...   \n",
      "...           ...               ...             ...            ...  ...   \n",
      "7038          Yes               Yes             DSL            Yes  ...   \n",
      "7039          Yes               Yes     Fiber optic             No  ...   \n",
      "7040           No  No phone service             DSL            Yes  ...   \n",
      "7041          Yes               Yes     Fiber optic             No  ...   \n",
      "7042          Yes                No     Fiber optic            Yes  ...   \n",
      "\n",
      "     DeviceProtection TechSupport StreamingTV StreamingMovies        Contract  \\\n",
      "0                  No          No          No              No  Month-to-month   \n",
      "1                 Yes          No          No              No        One year   \n",
      "2                  No          No          No              No  Month-to-month   \n",
      "3                 Yes         Yes          No              No        One year   \n",
      "4                  No          No          No              No  Month-to-month   \n",
      "...               ...         ...         ...             ...             ...   \n",
      "7038              Yes         Yes         Yes             Yes        One year   \n",
      "7039              Yes          No         Yes             Yes        One year   \n",
      "7040               No          No          No              No  Month-to-month   \n",
      "7041               No          No          No              No  Month-to-month   \n",
      "7042              Yes         Yes         Yes             Yes        Two year   \n",
      "\n",
      "     PaperlessBilling              PaymentMethod MonthlyCharges  TotalCharges  \\\n",
      "0                 Yes           Electronic check          29.85         29.85   \n",
      "1                  No               Mailed check          56.95        1889.5   \n",
      "2                 Yes               Mailed check          53.85        108.15   \n",
      "3                  No  Bank transfer (automatic)          42.30       1840.75   \n",
      "4                 Yes           Electronic check          70.70        151.65   \n",
      "...               ...                        ...            ...           ...   \n",
      "7038              Yes               Mailed check          84.80        1990.5   \n",
      "7039              Yes    Credit card (automatic)         103.20        7362.9   \n",
      "7040              Yes           Electronic check          29.60        346.45   \n",
      "7041              Yes               Mailed check          74.40         306.6   \n",
      "7042              Yes  Bank transfer (automatic)         105.65        6844.5   \n",
      "\n",
      "     Churn  \n",
      "0       No  \n",
      "1       No  \n",
      "2      Yes  \n",
      "3       No  \n",
      "4      Yes  \n",
      "...    ...  \n",
      "7038    No  \n",
      "7039    No  \n",
      "7040    No  \n",
      "7041   Yes  \n",
      "7042    No  \n",
      "\n",
      "[7043 rows x 21 columns]> \n",
      "\n",
      "\n",
      "customerID          0\n",
      "gender              0\n",
      "SeniorCitizen       0\n",
      "Partner             0\n",
      "Dependents          0\n",
      "tenure              0\n",
      "PhoneService        0\n",
      "MultipleLines       0\n",
      "InternetService     0\n",
      "OnlineSecurity      0\n",
      "OnlineBackup        0\n",
      "DeviceProtection    0\n",
      "TechSupport         0\n",
      "StreamingTV         0\n",
      "StreamingMovies     0\n",
      "Contract            0\n",
      "PaperlessBilling    0\n",
      "PaymentMethod       0\n",
      "MonthlyCharges      0\n",
      "TotalCharges        0\n",
      "Churn               0\n",
      "dtype: int64 \n",
      "\n",
      "\n",
      "0\n"
     ]
    }
   ],
   "source": [
    "print(customerChurn.shape[0], '\\n\\n')\n",
    "\n",
    "print(customerChurn.info, '\\n\\n')\n",
    "\n",
    "print(customerChurn.isnull().sum(), '\\n\\n')\n",
    "\n",
    "print(customerChurn.isnull().sum().sum())"
   ]
  },
  {
   "cell_type": "code",
   "execution_count": 7,
   "id": "4d397620-c334-4f70-8a30-ebf24a899b61",
   "metadata": {},
   "outputs": [],
   "source": [
    "# Understand the balance of the target variable (Churn)"
   ]
  },
  {
   "cell_type": "code",
   "execution_count": 8,
   "id": "76acb75a-f29e-46f1-8c2e-209da0c81c6a",
   "metadata": {},
   "outputs": [
    {
     "data": {
      "text/plain": [
       "Churn\n",
       "No     0.73463\n",
       "Yes    0.26537\n",
       "Name: proportion, dtype: float64"
      ]
     },
     "execution_count": 8,
     "metadata": {},
     "output_type": "execute_result"
    }
   ],
   "source": [
    "customerChurn['Churn'].value_counts(normalize=True)"
   ]
  },
  {
   "cell_type": "markdown",
   "id": "7a4e9c87-49cf-40c4-b7b9-c3be12b1839b",
   "metadata": {},
   "source": [
    "2. Preprocessing"
   ]
  },
  {
   "cell_type": "code",
   "execution_count": 9,
   "id": "0670097b-b644-4d28-bd32-a37f69ce90a7",
   "metadata": {},
   "outputs": [],
   "source": [
    "# Convert Churn to binary: Yes → 1, No → 0"
   ]
  },
  {
   "cell_type": "code",
   "execution_count": 10,
   "id": "c08fb9a1-4ea5-4f96-bbc2-98bbf9666b78",
   "metadata": {},
   "outputs": [
    {
     "name": "stdout",
     "output_type": "stream",
     "text": [
      "0       0\n",
      "1       0\n",
      "2       1\n",
      "3       0\n",
      "4       1\n",
      "       ..\n",
      "7038    0\n",
      "7039    0\n",
      "7040    0\n",
      "7041    1\n",
      "7042    0\n",
      "Name: Churn, Length: 7043, dtype: int64\n"
     ]
    }
   ],
   "source": [
    "customerChurn['Churn'] = customerChurn['Churn'].map({'Yes': 1, 'No': 0})\n",
    "\n",
    "print(customerChurn['Churn'])"
   ]
  },
  {
   "cell_type": "code",
   "execution_count": 11,
   "id": "9c7a7bd4-7e38-4a5d-8a68-bf9d3c64d843",
   "metadata": {},
   "outputs": [],
   "source": [
    "# Handle missing or blank values in TotalCharges"
   ]
  },
  {
   "cell_type": "code",
   "execution_count": 12,
   "id": "0019bb29-0fdc-4e62-99e0-86f5cf053849",
   "metadata": {},
   "outputs": [
    {
     "name": "stderr",
     "output_type": "stream",
     "text": [
      "C:\\Temp\\ipykernel_13184\\608511180.py:2: FutureWarning: A value is trying to be set on a copy of a DataFrame or Series through chained assignment using an inplace method.\n",
      "The behavior will change in pandas 3.0. This inplace method will never work because the intermediate object on which we are setting values always behaves as a copy.\n",
      "\n",
      "For example, when doing 'df[col].method(value, inplace=True)', try using 'df.method({col: value}, inplace=True)' or df[col] = df[col].method(value) instead, to perform the operation inplace on the original object.\n",
      "\n",
      "\n",
      "  customerChurn['TotalCharges'].fillna(customerChurn['TotalCharges'].median(), inplace=True)\n"
     ]
    }
   ],
   "source": [
    "customerChurn['TotalCharges'] = pd.to_numeric(customerChurn['TotalCharges'], errors='coerce')\n",
    "customerChurn['TotalCharges'].fillna(customerChurn['TotalCharges'].median(), inplace=True)"
   ]
  },
  {
   "cell_type": "code",
   "execution_count": 13,
   "id": "5e2bc8c9-b2ca-48d1-8778-4d24f6e1f8fa",
   "metadata": {},
   "outputs": [],
   "source": [
    "# Encode categorical columns using Label Encoding or One-Hot Encoding"
   ]
  },
  {
   "cell_type": "code",
   "execution_count": 14,
   "id": "d5423261-7331-4d4b-a579-117a59116cd0",
   "metadata": {},
   "outputs": [],
   "source": [
    "customerChurn.drop('customerID', axis=1, inplace=True)\n",
    "\n",
    "customerChurn = pd.get_dummies(customerChurn, columns=customerChurn.select_dtypes(include='object').columns, drop_first=True)"
   ]
  },
  {
   "cell_type": "code",
   "execution_count": 15,
   "id": "2e2ad54b-463c-4f7b-9ff3-014236a2a472",
   "metadata": {},
   "outputs": [],
   "source": [
    "# Normalize or scale MonthlyCharges and TotalCharges if needed"
   ]
  },
  {
   "cell_type": "code",
   "execution_count": 16,
   "id": "24d4f81b-3018-4042-9cb1-b07b5b974424",
   "metadata": {},
   "outputs": [],
   "source": [
    "from sklearn.preprocessing import StandardScaler\n",
    "\n",
    "scaler = StandardScaler()\n",
    "\n",
    "customerChurn[['MonthlyCharges', 'TotalCharges']] = scaler.fit_transform(customerChurn[['MonthlyCharges', 'TotalCharges']])"
   ]
  },
  {
   "cell_type": "code",
   "execution_count": 17,
   "id": "c8324d25-e43c-49d8-b88b-5411207d8f58",
   "metadata": {},
   "outputs": [],
   "source": [
    "# Split the data into train and test sets (80:20 or 70:30)"
   ]
  },
  {
   "cell_type": "code",
   "execution_count": 18,
   "id": "c5b4e1f4-0a0a-45eb-baca-a5f3c2219772",
   "metadata": {},
   "outputs": [],
   "source": [
    "from sklearn.model_selection import train_test_split\n",
    "\n",
    "X = customerChurn.drop('Churn', axis=1)\n",
    "\n",
    "y = customerChurn['Churn']\n",
    "\n",
    "X_train, X_test, y_train, y_test = train_test_split(X, y, test_size=0.2, random_state=42)"
   ]
  },
  {
   "cell_type": "markdown",
   "id": "f38759d1-6f53-4695-b673-74091ebbf9dc",
   "metadata": {},
   "source": [
    "3. Model Training"
   ]
  },
  {
   "cell_type": "code",
   "execution_count": 19,
   "id": "5c6f391e-1291-4121-8d5b-906a6d1e258f",
   "metadata": {},
   "outputs": [],
   "source": [
    "# Use Logistic Regression from scikit-learn"
   ]
  },
  {
   "cell_type": "code",
   "execution_count": 20,
   "id": "49f2d991-e0cd-478a-8c80-b90df44a643e",
   "metadata": {},
   "outputs": [],
   "source": [
    "from sklearn.linear_model import LogisticRegression\n",
    "\n",
    "model = LogisticRegression(max_iter=1000)"
   ]
  },
  {
   "cell_type": "code",
   "execution_count": 21,
   "id": "242b1580-0873-484d-840b-fc60d8e0ec26",
   "metadata": {},
   "outputs": [],
   "source": [
    "# Train the model on the training set"
   ]
  },
  {
   "cell_type": "code",
   "execution_count": 22,
   "id": "794b33e9-b61a-4c85-91b3-dfebd7c14c12",
   "metadata": {},
   "outputs": [],
   "source": [
    "model.fit(X_train, y_train)\n",
    "\n",
    "y_pred = model.predict(X_test)"
   ]
  },
  {
   "cell_type": "code",
   "execution_count": 23,
   "id": "7776d59d-1afe-403e-a804-f762c333c476",
   "metadata": {},
   "outputs": [],
   "source": [
    "# Evaluate it on the test set using: Accuracy, Precision, Recall, F1 Score and Confusion Matrix"
   ]
  },
  {
   "cell_type": "code",
   "execution_count": 24,
   "id": "a7621275-af22-47d8-9725-042f72b94ec8",
   "metadata": {},
   "outputs": [
    {
     "name": "stdout",
     "output_type": "stream",
     "text": [
      "0.8211497515968772 \n",
      "\n",
      "\n",
      "0.6850152905198776 \n",
      "\n",
      "\n",
      "0.6005361930294906 \n",
      "\n",
      "\n",
      "0.64 \n",
      "\n",
      "\n",
      "[[933 103]\n",
      " [149 224]]\n"
     ]
    }
   ],
   "source": [
    "from sklearn.metrics import accuracy_score, precision_score, recall_score, f1_score, confusion_matrix\n",
    "\n",
    "print(accuracy_score(y_test, y_pred), '\\n\\n')\n",
    "\n",
    "print(precision_score(y_test, y_pred), '\\n\\n')\n",
    "\n",
    "print(recall_score(y_test, y_pred), '\\n\\n')\n",
    "\n",
    "print(f1_score(y_test, y_pred), '\\n\\n')\n",
    "\n",
    "print(confusion_matrix(y_test, y_pred))"
   ]
  },
  {
   "cell_type": "code",
   "execution_count": 25,
   "id": "dd1d8266-5c5d-458f-a915-38c9c24b1f20",
   "metadata": {},
   "outputs": [],
   "source": [
    "# Save your model using pickle or joblib"
   ]
  },
  {
   "cell_type": "code",
   "execution_count": 26,
   "id": "8c5abc1a-95f1-4400-ab7a-ebb2f8da6543",
   "metadata": {},
   "outputs": [],
   "source": [
    "import pickle\n",
    "\n",
    "with open('customer_churn_model.pkl', 'wb') as f:\n",
    "    pickle.dump(model, f)"
   ]
  }
 ],
 "metadata": {
  "kernelspec": {
   "display_name": "base",
   "language": "python",
   "name": "python3"
  },
  "language_info": {
   "codemirror_mode": {
    "name": "ipython",
    "version": 3
   },
   "file_extension": ".py",
   "mimetype": "text/x-python",
   "name": "python",
   "nbconvert_exporter": "python",
   "pygments_lexer": "ipython3",
   "version": "3.12.7"
  }
 },
 "nbformat": 4,
 "nbformat_minor": 5
}
